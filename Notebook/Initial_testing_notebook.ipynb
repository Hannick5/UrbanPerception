{
 "cells": [
  {
   "attachments": {},
   "cell_type": "markdown",
   "id": "4a2b7531",
   "metadata": {},
   "source": [
    "# Importing the required libraries"
   ]
  },
  {
   "cell_type": "code",
   "execution_count": null,
   "id": "86c19f87",
   "metadata": {},
   "outputs": [],
   "source": [
    "import sys\n",
    "sys.path.append('../')\n",
    "from tensorflow.keras.callbacks import EarlyStopping\n",
    "from utils import *\n",
    "from dataset import *\n",
    "from comparison_model import *\n",
    "from ranking_model import *"
   ]
  },
  {
   "attachments": {},
   "cell_type": "markdown",
   "id": "f2752818",
   "metadata": {},
   "source": [
    "# Preparing the data"
   ]
  },
  {
   "cell_type": "code",
   "execution_count": null,
   "id": "686a8b0a",
   "metadata": {},
   "outputs": [],
   "source": [
    "data_folder = \"../data/question_1/duels_question_1.csv\"\n",
    "\n",
    "data = prepare_data(data_folder)\n",
    "\n",
    "shape = 224\n"
   ]
  },
  {
   "attachments": {},
   "cell_type": "markdown",
   "id": "07d321d1",
   "metadata": {},
   "source": [
    "### Splitting and formatting the data for the comparison model using the duels data"
   ]
  },
  {
   "cell_type": "code",
   "execution_count": null,
   "id": "8eb069f9",
   "metadata": {},
   "outputs": [],
   "source": [
    "image1_array, image2_array, labels = prepare_dataset_arrays(\"..\\data\\question_1\\Sample_web_green\", data, shape)"
   ]
  },
  {
   "attachments": {},
   "cell_type": "markdown",
   "id": "042e839a",
   "metadata": {},
   "source": [
    "### Creating the prediction dataset"
   ]
  },
  {
   "cell_type": "code",
   "execution_count": null,
   "id": "0bb3c9dc",
   "metadata": {},
   "outputs": [],
   "source": [
    "X_pred = prepare_prediction_siamese(\"../data/question_1/ForPrediction/*/*\", shape)"
   ]
  },
  {
   "attachments": {},
   "cell_type": "markdown",
   "id": "1bb592f8",
   "metadata": {},
   "source": [
    "### Creating the Training, Validation and Testing datasets with a split of (60%, 20%, 20%)"
   ]
  },
  {
   "cell_type": "code",
   "execution_count": null,
   "id": "8e808894",
   "metadata": {},
   "outputs": [],
   "source": [
    "(X_train, y_train), (X_valid, y_valid), (X_test, y_test) = prepare_dataset_for_network(image1_array, image2_array, labels)"
   ]
  },
  {
   "attachments": {},
   "cell_type": "markdown",
   "id": "66bce16b",
   "metadata": {},
   "source": [
    "# Building the siamese network"
   ]
  },
  {
   "attachments": {},
   "cell_type": "markdown",
   "id": "fe17103d",
   "metadata": {},
   "source": [
    "## Building the model for the comparison between the two pictures"
   ]
  },
  {
   "cell_type": "code",
   "execution_count": null,
   "id": "d71ecb41",
   "metadata": {
    "scrolled": true
   },
   "outputs": [],
   "source": [
    "# Train the siamese network\n",
    "\n",
    "early_stopping = EarlyStopping(monitor='val_loss', patience=5, restore_best_weights=True)\n",
    "\n",
    "siamese_comparison_model = comparison_siamese_model((224, 224, 3))\n",
    "\n",
    "history = siamese_comparison_model.fit(X_train, y_train, batch_size=64, epochs=5, validation_data=(X_valid, y_valid), callbacks=[early_stopping])"
   ]
  },
  {
   "attachments": {},
   "cell_type": "markdown",
   "id": "b47f46ae",
   "metadata": {},
   "source": [
    "### Testing accuracy check"
   ]
  },
  {
   "cell_type": "code",
   "execution_count": null,
   "id": "cc476623",
   "metadata": {
    "scrolled": true
   },
   "outputs": [],
   "source": [
    "# Evaluate the model on the test set\n",
    "test_accuracy(siamese_comparison_model, X_test, y_test)"
   ]
  },
  {
   "attachments": {},
   "cell_type": "markdown",
   "id": "547c5349",
   "metadata": {},
   "source": [
    "### Plotting the accuracy metric for the validation and training datasets"
   ]
  },
  {
   "cell_type": "code",
   "execution_count": null,
   "id": "b1f88745",
   "metadata": {},
   "outputs": [],
   "source": [
    "plot_accuracy(history)"
   ]
  },
  {
   "attachments": {},
   "cell_type": "markdown",
   "id": "7e76909c",
   "metadata": {},
   "source": [
    "### Plotting the loss for the validation and training datasets"
   ]
  },
  {
   "cell_type": "code",
   "execution_count": null,
   "id": "82dab96d",
   "metadata": {
    "scrolled": true
   },
   "outputs": [],
   "source": [
    "plot_loss(history)"
   ]
  },
  {
   "attachments": {},
   "cell_type": "markdown",
   "id": "24966341",
   "metadata": {},
   "source": [
    "### Plotting some of the results from the prediction on the Prediction dataset"
   ]
  },
  {
   "cell_type": "code",
   "execution_count": null,
   "id": "b300232d",
   "metadata": {},
   "outputs": [],
   "source": [
    "# predicting_on_dataset(X_pred, siamese_comparison_model)"
   ]
  },
  {
   "attachments": {},
   "cell_type": "markdown",
   "id": "2e04b268",
   "metadata": {},
   "source": [
    "# Building the ranking model"
   ]
  },
  {
   "cell_type": "code",
   "execution_count": null,
   "id": "32dd7d30",
   "metadata": {},
   "outputs": [],
   "source": [
    "y_train, y_valid, y_test = prepare_label_for_ranking(labels)"
   ]
  },
  {
   "attachments": {},
   "cell_type": "markdown",
   "id": "5b7b8810",
   "metadata": {},
   "source": [
    "### Guillaume's model"
   ]
  },
  {
   "cell_type": "code",
   "execution_count": null,
   "id": "c3fa78f2",
   "metadata": {
    "scrolled": true
   },
   "outputs": [],
   "source": [
    "meta_network = create_meta_network(224)\n",
    "meta_network.summary()\n",
    "history = meta_network.fit(X_train, y_train, batch_size=16, epochs=5, validation_data=(X_valid, y_valid))"
   ]
  },
  {
   "cell_type": "code",
   "execution_count": null,
   "id": "4ed97fc5",
   "metadata": {},
   "outputs": [],
   "source": [
    "# plot_loss(history)\n",
    "# plot_accuracy(history)"
   ]
  },
  {
   "cell_type": "code",
   "execution_count": null,
   "id": "29bef3bf",
   "metadata": {},
   "outputs": [],
   "source": [
    "# ranking_model = meta_network.get_layer('Scoring_model')\n",
    "# ranking_model.save_weights('ranking_model_weights.h5')"
   ]
  },
  {
   "cell_type": "code",
   "execution_count": null,
   "id": "e5f464dd",
   "metadata": {
    "scrolled": true
   },
   "outputs": [],
   "source": [
    "ranking_model = create_ranking_network(224)\n",
    "ranking_model.load_weights(\"../Result/Ranking_40E/ranking_model_weights_Adam_Unfrozen_40E.h5\")"
   ]
  },
  {
   "cell_type": "code",
   "execution_count": null,
   "id": "5ae0aaa3",
   "metadata": {},
   "outputs": [],
   "source": [
    "plot_ranking_predict(ranking_model, X_pred, \"prediction.png\")"
   ]
  },
  {
   "cell_type": "code",
   "execution_count": null,
   "id": "dbc0b200",
   "metadata": {},
   "outputs": [],
   "source": []
  }
 ],
 "metadata": {
  "kernelspec": {
   "display_name": "Python 3 (ipykernel)",
   "language": "python",
   "name": "python3"
  },
  "language_info": {
   "codemirror_mode": {
    "name": "ipython",
    "version": 3
   },
   "file_extension": ".py",
   "mimetype": "text/x-python",
   "name": "python",
   "nbconvert_exporter": "python",
   "pygments_lexer": "ipython3",
   "version": "3.9.16"
  }
 },
 "nbformat": 4,
 "nbformat_minor": 5
}
